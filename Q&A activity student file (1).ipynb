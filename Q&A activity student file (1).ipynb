{
 "cells": [
  {
   "cell_type": "markdown",
   "metadata": {},
   "source": [
    "## 1. Complete the following code to find the area of an equilateral triangle. Output should be as displayed"
   ]
  },
  {
   "cell_type": "code",
   "execution_count": 15,
   "metadata": {},
   "outputs": [
    {
     "name": "stdout",
     "output_type": "stream",
     "text": [
      "Enter the side of the equilateral triangle: 5\n",
      "Area =  10.825\n"
     ]
    }
   ],
   "source": [
    "import math\n",
    "side = float(input(\"Enter the side of the equilateral triangle: \"))\n",
    "area = ((math.sqrt(3))/4)*pow(side,2)\n",
    "print(\"Area = \",round(area,3))\n"
   ]
  },
  {
   "cell_type": "markdown",
   "metadata": {},
   "source": [
    "## 2. Write a program to count the number of each characters in a string"
   ]
  },
  {
   "cell_type": "code",
   "execution_count": 27,
   "metadata": {},
   "outputs": [
    {
     "name": "stdout",
     "output_type": "stream",
     "text": [
      "Enter a string character: data\n",
      "Count of each character is :\n",
      "d = 1\n",
      "a = 2\n",
      "t = 1\n"
     ]
    }
   ],
   "source": [
    "\n",
    "character=input(\"Enter a string character: \")\n",
    "charcterlist=list(character)\n",
    "list1=[]\n",
    "print(\"Count of each character is :\")\n",
    "\n",
    "for i in charcterlist:\n",
    "    if i not in list1:\n",
    "        list1.append(i)\n",
    "        count=0\n",
    "        \n",
    "        for j in charcterlist:\n",
    "            if i==j:\n",
    "                count+=1\n",
    "                \n",
    "        print(i,'=',count)\n"
   ]
  },
  {
   "cell_type": "markdown",
   "metadata": {},
   "source": [
    "## 3. Write a program to find the area and perimeter of a rectangle using functions"
   ]
  },
  {
   "cell_type": "code",
   "execution_count": 11,
   "metadata": {},
   "outputs": [
    {
     "name": "stdout",
     "output_type": "stream",
     "text": [
      "Enter length: 6\n",
      "Enter breadth: 5\n",
      "Area of rectangle= 30.0\n",
      "Perimeter of rectangle= 22.0\n"
     ]
    }
   ],
   "source": [
    "def area_perimeter(length, breadth):\n",
    "    area=length*breadth\n",
    "    perimeter=2*(length+breadth)\n",
    "    print( \"Area of rectangle=\" , area)\n",
    "    print( \"Perimeter of rectangle=\" ,perimeter)\n",
    "    \n",
    "l = float(input(\"Enter length: \")) \n",
    "b = float(input(\"Enter breadth: \")) \n",
    "area_perimeter(l,b)"
   ]
  },
  {
   "cell_type": "markdown",
   "metadata": {},
   "source": [
    "## 4. Write a program to print the fibonacci series till a specified number"
   ]
  },
  {
   "cell_type": "code",
   "execution_count": 20,
   "metadata": {},
   "outputs": [
    {
     "name": "stdout",
     "output_type": "stream",
     "text": [
      "Enter the range of values: 5\n",
      "Fibonacci Values: \n",
      "0\n",
      "1\n",
      "1\n",
      "2\n",
      "3\n"
     ]
    }
   ],
   "source": [
    "num1=0\n",
    "num2=1\n",
    "rangeofvalues=int(input(\"Enter the range of values: \"))\n",
    "print(\"Fibonacci Values: \")\n",
    "print(num1)\n",
    "print(num2)\n",
    "for i in range(2, rangeofvalues):\n",
    "    num3=num1+num2\n",
    "    num1=num2\n",
    "    num2=num3\n",
    "    print(num3)\n"
   ]
  },
  {
   "cell_type": "markdown",
   "metadata": {},
   "source": [
    "## 5. Complete the following code to find the minimum of 3 number using conditional statements. Output should be as displayed"
   ]
  },
  {
   "cell_type": "code",
   "execution_count": 13,
   "metadata": {},
   "outputs": [
    {
     "name": "stdout",
     "output_type": "stream",
     "text": [
      "Enter three numbers followed by  : 66 44 22\n",
      "First number : 66\n",
      "Second number : 44\n",
      "Third number : 22\n",
      "22  is smallest\n"
     ]
    }
   ],
   "source": [
    "a,b,c = input(\"Enter three numbers followed by  : \").split()\n",
    "\n",
    "print(\"First number :\",a)\n",
    "print(\"Second number :\",b)\n",
    "print(\"Third number :\",c)\n",
    "\n",
    "if(a==b) and (b==c):\n",
    "    print(\"Entered numbers are equal!!!\")\n",
    "elif (a<b) and(a<c):\n",
    "    print(a,\" is smallest\")\n",
    "elif(b<a) and (b<c):\n",
    "    print(b,\" is smallest\")\n",
    "else:\n",
    "    print(c,\" is smallest\")"
   ]
  },
  {
   "cell_type": "markdown",
   "metadata": {},
   "source": [
    "## 6. Write a program to print star pyramind. The number of rows should be taken as input from the user"
   ]
  },
  {
   "cell_type": "code",
   "execution_count": 42,
   "metadata": {},
   "outputs": [
    {
     "name": "stdout",
     "output_type": "stream",
     "text": [
      "Enter the range of star pyramid :4\n",
      "         *   \n",
      "       *   *   \n",
      "     *   *   *   \n",
      "   *   *   *   *   \n"
     ]
    }
   ],
   "source": [
    "rangeofpyramid=int(input(\"Enter the range of star pyramid :\"))\n",
    "\n",
    "for i in range(0,rangeofpyramid):\n",
    "     for pattern in range(rangeofpyramid-i):\n",
    "        print(end=\"  \")\n",
    "     for j in range(i+1):\n",
    "        print(\" * \",end=\" \")\n",
    "     print(\" \")  \n",
    " "
   ]
  },
  {
   "cell_type": "markdown",
   "metadata": {},
   "source": [
    "## 7. Complete the following code to convert hour into seconds. Output should be as displayed"
   ]
  },
  {
   "cell_type": "code",
   "execution_count": 18,
   "metadata": {},
   "outputs": [
    {
     "name": "stdout",
     "output_type": "stream",
     "text": [
      "Enter time in Hours :12\n",
      "12  Hour is equal to 43200  Seconds\n"
     ]
    }
   ],
   "source": [
    "def to_seconds(t):\n",
    "    t=t*3600\n",
    "    return t\n",
    "time_in_hours = int(input(\"Enter time in Hours :\"))\n",
    "print(time_in_hours ,\" Hour is equal to\" ,to_seconds(time_in_hours) ,\" Seconds\")"
   ]
  },
  {
   "cell_type": "markdown",
   "metadata": {},
   "source": [
    "## 8. Write a program to print multiplication table as below"
   ]
  },
  {
   "cell_type": "code",
   "execution_count": 5,
   "metadata": {},
   "outputs": [
    {
     "name": "stdout",
     "output_type": "stream",
     "text": [
      "Enter a number to find the multiplication table: 10\n",
      "1 x 10 = 10\n",
      "2 x 10 = 20\n",
      "3 x 10 = 30\n",
      "4 x 10 = 40\n",
      "5 x 10 = 50\n",
      "6 x 10 = 60\n",
      "7 x 10 = 70\n",
      "8 x 10 = 80\n",
      "9 x 10 = 90\n",
      "10 x 10 = 100\n"
     ]
    }
   ],
   "source": [
    "number = int(input(\"Enter a number to find the multiplication table: \"))\n",
    "for i in range(1,11):\n",
    "   print(i,'x',number,'=',number*i)"
   ]
  },
  {
   "cell_type": "markdown",
   "metadata": {},
   "source": [
    "## 9. Write a program to take your 5 favorite food as list and print each as 'I like Biriyani'"
   ]
  },
  {
   "cell_type": "code",
   "execution_count": 23,
   "metadata": {},
   "outputs": [
    {
     "name": "stdout",
     "output_type": "stream",
     "text": [
      "Enter  favouite foods :Kappa\n",
      "Enter  favouite foods :Kanji\n",
      "Enter  favouite foods :Biriyani\n",
      "Enter  favouite foods :Masala Dosha\n",
      "Enter  favouite foods :Idli Sambar\n",
      "\n",
      "Foods= ['Kappa', 'Kanji', 'Biriyani', 'Masala Dosha', 'Idli Sambar']\n",
      "\n",
      "\n",
      "I like Kappa\n",
      "I like Kanji\n",
      "I like Biriyani\n",
      "I like Masala Dosha\n",
      "I like Idli Sambar\n"
     ]
    }
   ],
   "source": [
    "foods = []\n",
    "for i in range(5):\n",
    "    fav_food=input(\"Enter  favouite foods :\")\n",
    "    foods.append(fav_food)\n",
    "print(\"\\nFoods=\",foods)\n",
    "print(\"\\n\")\n",
    "for j in foods:\n",
    "    print(\"I like \"+j)"
   ]
  }
 ],
 "metadata": {
  "kernelspec": {
   "display_name": "Python 3 (ipykernel)",
   "language": "python",
   "name": "python3"
  },
  "language_info": {
   "codemirror_mode": {
    "name": "ipython",
    "version": 3
   },
   "file_extension": ".py",
   "mimetype": "text/x-python",
   "name": "python",
   "nbconvert_exporter": "python",
   "pygments_lexer": "ipython3",
   "version": "3.9.7"
  }
 },
 "nbformat": 4,
 "nbformat_minor": 4
}
